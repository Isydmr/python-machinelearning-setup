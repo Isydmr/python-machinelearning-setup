{
 "cells": [
  {
   "cell_type": "markdown",
   "metadata": {},
   "source": [
    "https://www.svm-tutorial.com/\n",
    "1. What is the goal of the Support Vector Machine (SVM)?\n",
    "2. Decision Boundaries and Maximum Magin Classifier\n",
    "3. How to find the optimal hyperplane?\n",
    "4. Linear separability and the Slack variable\n",
    "5. The Kernel Trick\n",
    "6. SVMs in Practice\n",
    "7. "
   ]
  },
  {
   "cell_type": "markdown",
   "metadata": {},
   "source": [
    "# Support Vector Machines: A Brief History\n",
    "\n",
    "* SVM was first introduced in 1992\n",
    "* SVM becomes popular because of its success in handwritten digit recognition\n",
    "    - 1.1% test error rate for SVM. This is the same as the error rates of a carefully constructed neural network, LeNet 4.\n",
    "* SVM is now regarded as an important example of “kernel methods”, one of the key area in machine learning"
   ]
  },
  {
   "cell_type": "markdown",
   "metadata": {},
   "source": [
    "# Decision Boundary\n",
    "\n",
    "Examples of good and bad decision boundaries:\n",
    "\n",
    "![](./images/good.png)\n",
    "![](./images/bad1.png)\n",
    "![](./images/bad2.png)\n",
    "\n",
    "## Large Margin Classifier\n",
    "\n",
    "\n",
    "The decision boundary should be as far away from the data of both classes as possible.\n",
    "\n",
    "* We should maximize the margin, m\n",
    "* Distance between the origin and the line $w^{t}x=k$ is $k/||w||$\n",
    "\n",
    "![](./images/math.png)\n",
    "\n",
    "Clearly this is what we want!\n",
    "\n",
    "## Finding the Decision Boundary\n",
    "\n",
    "* Let ${x_1, ..., x_n}$ be our data set and let $y_i ∈ \\{1,-1\\}$ be the class label of x\n",
    "* The decision boundary should classify all points correctly\n",
    "    - $y_{i}(w^{T}x_{i} + b) \\geq 1, \\forall i$\n",
    "* The decision boundary can be found by solving the following constrained optimization problem\n",
    "    - Minimize $\\frac{1}{2}||w||^2$\n",
    "    - subject to $y_{i}(w^{T}x_{i} + b) \\geq 1, \\forall i$\n",
    "* This is a constrained optimization problem. Solving it requires some new tools.\n",
    "* Typically, the formulation above will be called the **primal** problem, and in practice we solve the **dual** problem, which is equivalent to the problem above\n",
    "    - The dual problem is a Quadratic Programming (QP) problem\n",
    "    "
   ]
  },
  {
   "cell_type": "markdown",
   "metadata": {},
   "source": []
  },
  {
   "cell_type": "markdown",
   "metadata": {},
   "source": []
  },
  {
   "cell_type": "markdown",
   "metadata": {},
   "source": []
  },
  {
   "cell_type": "markdown",
   "metadata": {},
   "source": []
  }
 ],
 "metadata": {
  "kernelspec": {
   "display_name": "Python 2",
   "language": "python",
   "name": "python2"
  },
  "language_info": {
   "codemirror_mode": {
    "name": "ipython",
    "version": 2
   },
   "file_extension": ".py",
   "mimetype": "text/x-python",
   "name": "python",
   "nbconvert_exporter": "python",
   "pygments_lexer": "ipython2",
   "version": "2.7.13"
  },
  "widgets": {
   "state": {},
   "version": "1.1.2"
  }
 },
 "nbformat": 4,
 "nbformat_minor": 2
}
